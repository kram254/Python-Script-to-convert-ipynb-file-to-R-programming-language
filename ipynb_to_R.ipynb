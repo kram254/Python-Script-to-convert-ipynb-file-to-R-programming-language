{
  "nbformat": 4,
  "nbformat_minor": 0,
  "metadata": {
    "colab": {
      "provenance": [],
      "authorship_tag": "ABX9TyPNBI5SOQjw5APgut/lFAjp",
      "include_colab_link": true
    },
    "kernelspec": {
      "name": "ir",
      "display_name": "R"
    },
    "language_info": {
      "name": "R"
    }
  },
  "cells": [
    {
      "cell_type": "markdown",
      "metadata": {
        "id": "view-in-github",
        "colab_type": "text"
      },
      "source": [
        "<a href=\"https://colab.research.google.com/github/kram254/Python-Script-to-convert-ipynb-file-to-R-programming-language/blob/main/ipynb_to_R.ipynb\" target=\"_parent\"><img src=\"https://colab.research.google.com/assets/colab-badge.svg\" alt=\"Open In Colab\"/></a>"
      ]
    },
    {
      "cell_type": "code",
      "source": [],
      "metadata": {
        "id": "Zi4j3oJo04h8"
      },
      "execution_count": null,
      "outputs": []
    },
    {
      "cell_type": "code",
      "execution_count": null,
      "metadata": {
        "colab": {
          "base_uri": "https://localhost:8080/",
          "height": 503
        },
        "id": "fY3Rwrk90Jj0",
        "outputId": "d48856c5-f344-4a43-e407-4211a15b9fdd"
      },
      "outputs": [
        {
          "output_type": "stream",
          "name": "stderr",
          "text": [
            "\n",
            "\n",
            "processing file: statistics_1_.Rmd\n",
            "\n"
          ]
        },
        {
          "output_type": "stream",
          "name": "stdout",
          "text": [
            "1/19                  \n",
            "2/19 [unnamed-chunk-1]\n",
            "3/19                  \n",
            "4/19 [unnamed-chunk-2]\n",
            "5/19                  \n",
            "6/19 [unnamed-chunk-3]\n",
            "7/19                  \n",
            "8/19 [unnamed-chunk-4]\n",
            "9/19                  \n",
            "10/19 [unnamed-chunk-5]\n",
            "11/19                  \n",
            "12/19 [unnamed-chunk-6]\n",
            "13/19                  \n",
            "14/19 [unnamed-chunk-7]\n",
            "15/19                  \n",
            "16/19 [unnamed-chunk-8]\n",
            "17/19                  \n",
            "18/19 [unnamed-chunk-9]\n",
            "19/19                  \n"
          ]
        },
        {
          "output_type": "stream",
          "name": "stderr",
          "text": [
            "output file: statistics_1_.R\n",
            "\n",
            "\n"
          ]
        },
        {
          "output_type": "display_data",
          "data": {
            "text/html": [
              "'statistics_1_.R'"
            ],
            "text/markdown": "'statistics_1_.R'",
            "text/latex": "'statistics\\_1\\_.R'",
            "text/plain": [
              "[1] \"statistics_1_.R\""
            ]
          },
          "metadata": {}
        },
        {
          "output_type": "display_data",
          "data": {
            "text/html": [
              "TRUE"
            ],
            "text/markdown": "TRUE",
            "text/latex": "TRUE",
            "text/plain": [
              "[1] TRUE"
            ]
          },
          "metadata": {}
        }
      ],
      "source": [
        "library(rmarkdown)\n",
        "library(knitr)\n",
        "library(xfun)\n",
        "\n",
        "input <- \"statistics_1_.ipynb\"\n",
        "\n",
        "# First convert to .Rmd...\n",
        "convert_ipynb(input)\n",
        "\n",
        "# ..then convert .Rmd into .R\n",
        "purl(with_ext(input, \"Rmd\"), output = with_ext(input, \"R\"))\n",
        "\n",
        "# (Optional) Remove .Rmd file\n",
        "file.remove(with_ext(input, \"Rmd\"))"
      ]
    },
    {
      "cell_type": "code",
      "source": [
        "convert_ipynb_to_r <- function(\n",
        "    input,\n",
        "    output = xfun::with_ext(input, \"R\"),\n",
        "    keep_rmd = FALSE,\n",
        "    ...\n",
        "    ) {\n",
        "        ## Check if necessary packages are installed\n",
        "        if (!require(\"rmarkdown\")) return(\"Missing necessary package: 'rmarkdown'\")\n",
        "        if (!require(\"knitr\")) return(\"Missing necessary package: 'knitr'\")\n",
        "\n",
        "        ## Check if file extension is matches Jupyter notebook.\n",
        "        if (tolower(xfun::file_ext(input)) != \"ipynb\") {\n",
        "            return( \"Error: Invalid file format\" )\n",
        "        }\n",
        "\n",
        "        ## Conversion process:\n",
        "        ## .ipynb to .Rmd\n",
        "        rmarkdown::convert_ipynb(input)\n",
        "        ## .Rmd to .R\n",
        "        knitr::purl(xfun::with_ext(input, \"Rmd\"), output = output)\n",
        "\n",
        "        ## Keep or remove intermediary .Rmd\n",
        "        if (keep_rmd == FALSE) {\n",
        "            file.remove(xfun::with_ext(input, \"Rmd\"))\n",
        "    }\n",
        "}"
      ],
      "metadata": {
        "id": "PWzbdKpC0fVf"
      },
      "execution_count": null,
      "outputs": []
    }
  ]
}